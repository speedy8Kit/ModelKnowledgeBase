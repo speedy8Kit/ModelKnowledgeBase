{
 "cells": [
  {
   "cell_type": "code",
   "execution_count": 3,
   "metadata": {},
   "outputs": [],
   "source": [
    "import clinicalPicture as cp\n",
    "import matplotlib.pyplot as plt\n",
    "from itertools import product"
   ]
  },
  {
   "cell_type": "code",
   "execution_count": 4,
   "metadata": {},
   "outputs": [],
   "source": [
    "PD_COUNT_MAX = 5"
   ]
  },
  {
   "cell_type": "code",
   "execution_count": 6,
   "metadata": {},
   "outputs": [],
   "source": [
    "def createArayDelimiters(original_array_length, sample_lenght):\n",
    "    if sample_lenght == 0:\n",
    "        return [[]]\n",
    "    stop = [*range(original_array_length-sample_lenght, original_array_length)]\n",
    "    arr = []\n",
    "    def create(word, i_let):\n",
    "        while word[i_let] < stop[i_let]+1:\n",
    "            if len(word) < sample_lenght:\n",
    "                create([*word, word[-1]+1], i_let+1)\n",
    "            else:\n",
    "                arr.append(word.copy())\n",
    "            word[i_let] += 1\n",
    "        return\n",
    "    create([1], 0)\n",
    "    \n",
    "    return arr"
   ]
  },
  {
   "cell_type": "code",
   "execution_count": 7,
   "metadata": {},
   "outputs": [],
   "source": [
    "def findePosiblePD(ex: tuple[list, list]) -> tuple[ list, list[dict['zdp':, 'pd_duration': list[tuple[int]]]] ]:\n",
    "    arr_val = ex[1]\n",
    "    arr_time = ex[0]\n",
    "    periods_dinamic = {f'{pd_count+1}':[] for pd_count in range(PD_COUNT_MAX)}\n",
    "    for count_dilimetrs_pd in range(PD_COUNT_MAX):\n",
    "        \n",
    "            \n",
    "        delimiters_arr = createArayDelimiters(len(arr_val), count_dilimetrs_pd)\n",
    "\n",
    "        for delimiters in delimiters_arr:\n",
    "            \n",
    "            delimiters.append(None)\n",
    "            delimiter_prev = 0\n",
    "            v = []\n",
    "            \n",
    "            for delimiter in delimiters:\n",
    "                v.append(set(arr_val[delimiter_prev:delimiter]))\n",
    "                delimiter_prev = delimiter\n",
    "                # if delimiters == [3, 6, 7,8 ,None]:\n",
    "                #     print(v)\n",
    "                if len(v)<2:\n",
    "                    continue\n",
    "                \n",
    "                union_pd = v[-1] & v[-2]\n",
    "                if len(union_pd) != 0:\n",
    "                    break\n",
    "            else:\n",
    "                delimiter_prev = 0\n",
    "                time = []\n",
    "                for delimiter in delimiters:\n",
    "                    times = arr_time[delimiter_prev:delimiter]\n",
    "                    delimiter_prev = delimiter\n",
    "                    time.append((times[0], times[-1]))\n",
    "                    \n",
    "                periods_dinamic[f'{count_dilimetrs_pd+1}'].append({'zdp': v, 'pd_duration': time})\n",
    "    return periods_dinamic\n"
   ]
  },
  {
   "cell_type": "code",
   "execution_count": 8,
   "metadata": {},
   "outputs": [],
   "source": [
    "def unionPD(pd1, pd2):\n",
    "\n",
    "    def unionVal(arr1, arr2):\n",
    "        ans = []\n",
    "        for a, b in zip(arr1, arr2):\n",
    "            ans.append(a | b)\n",
    "            if len(ans)<2:\n",
    "                continue\n",
    "            \n",
    "            union_pd = ans[-1] & ans[-2]\n",
    "            if len(union_pd) != 0:\n",
    "                return None\n",
    "            \n",
    "        return ans\n",
    "    def unionTime(arr1, arr2):\n",
    "        ans = []\n",
    "        for a, b in zip(arr1, arr2):\n",
    "            all_val = [*a, *b]\n",
    "            ans.append((min(all_val), max(all_val)))\n",
    "        return ans\n",
    "    ans = {}\n",
    "    for count_pd in range(1, PD_COUNT_MAX+1):\n",
    "        ans[f'{count_pd}'] = []\n",
    "        for combinations in product(pd1[f'{count_pd}'], pd2[f'{count_pd}']):\n",
    "            union_val = unionVal(combinations[0]['zdp'], combinations[1]['zdp'])\n",
    "            if union_val is not None:\n",
    "                union_time = unionTime(combinations[0]['pd_duration'], combinations[1]['pd_duration'])\n",
    "                ans[f'{count_pd}'].append({'zdp': union_val, 'pd_duration': union_time})\n",
    "    return ans"
   ]
  },
  {
   "cell_type": "code",
   "execution_count": null,
   "metadata": {},
   "outputs": [],
   "source": [
    "g = cp.ClinicalPicture(signs_count=2, disease_count=1)\n",
    "g.generateSings(value_exponent_boundaries=[1, 3],sings_discrete_part=1,value_count_max=20)\n",
    "g.generateDisease()"
   ]
  },
  {
   "cell_type": "code",
   "execution_count": 9,
   "metadata": {},
   "outputs": [],
   "source": [
    "ex = g.createExample()"
   ]
  },
  {
   "cell_type": "code",
   "execution_count": 10,
   "metadata": {},
   "outputs": [
    {
     "data": {
      "text/plain": [
       "[[([9, 15, 16, 24, 25, 54, 58], [1, 1, 1, 0, 0, 1, 0]),\n",
       "  ([4, 8, 20, 37, 40, 43, 57, 61], [4, 16, 12, 15, 19, 2, 1, 7])]]"
      ]
     },
     "execution_count": 10,
     "metadata": {},
     "output_type": "execute_result"
    }
   ],
   "source": []
  }
 ],
 "metadata": {
  "kernelspec": {
   "display_name": "Python 3",
   "language": "python",
   "name": "python3"
  },
  "language_info": {
   "codemirror_mode": {
    "name": "ipython",
    "version": 3
   },
   "file_extension": ".py",
   "mimetype": "text/x-python",
   "name": "python",
   "nbconvert_exporter": "python",
   "pygments_lexer": "ipython3",
   "version": "3.11.1"
  },
  "orig_nbformat": 4
 },
 "nbformat": 4,
 "nbformat_minor": 2
}
